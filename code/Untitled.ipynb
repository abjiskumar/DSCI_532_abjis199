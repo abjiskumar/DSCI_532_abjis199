{
 "cells": [
  {
   "cell_type": "code",
   "execution_count": null,
   "metadata": {},
   "outputs": [],
   "source": [
    "import altair as alt\n",
    "import pandas as pd \n",
    "data = pd.read_csv(\"../data/london_merged.csv\")\n",
    "data.loc[(data.season == 3),'season'] = 'Winter'\n",
    "data.loc[(data.season == 2),'season'] = 'Fall'\n",
    "data.loc[(data.season == 1),'season'] = 'Summer'\n",
    "data.loc[(data.season == 0),'season'] = 'Spring'\n",
    "data['Dates'] = pd.to_datetime(data['timestamp']).dt.date\n",
    "data['Time'] = pd.to_datetime(data['timestamp']).dt.time\n",
    "data.loc[(data.weather_code == 1),'weather_code'] = 'Clear'\n",
    "data.loc[(data.weather_code == 2),'weather_code'] = 'Scattered Clouds'\n",
    "data.loc[(data.weather_code == 3),'weather_code'] = 'Broken Clouds'\n",
    "data.loc[(data.weather_code == 4),'weather_code'] = 'Cloudy'\n",
    "data.loc[(data.weather_code == 7),'weather_code'] = 'Rain'\n",
    "data.loc[(data.weather_code == 10),'weather_code'] = 'Thunderstorm'\n",
    "data.loc[(data.weather_code == 26),'weather_code'] = 'Snowfall'\n",
    "data.loc[(data.weather_code == 94),'weather_code'] = 'Freezing Fog'\n",
    "data = data.drop(columns=['timestamp'])\n",
    "alt.renderers.enable(\"notebook\")\n",
    "alt.data_transformers.disable_max_rows()\n",
    "data.Dates = pd.to_datetime(data.Dates)\n",
    "data['Time'] = data['Time'].astype(str).str[0:2]\n",
    "data['Time'] = data['Time'].astype(int)\n",
    "data['Year']= data['Dates'].dt.year\n",
    "export_csv = data.to_csv ('cleaned_data.csv', index = None, header=True)"
   ]
  }
 ],
 "metadata": {
  "kernelspec": {
   "display_name": "Python 3",
   "language": "python",
   "name": "python3"
  },
  "language_info": {
   "codemirror_mode": {
    "name": "ipython",
    "version": 3
   },
   "file_extension": ".py",
   "mimetype": "text/x-python",
   "name": "python",
   "nbconvert_exporter": "python",
   "pygments_lexer": "ipython3",
   "version": "3.7.3"
  }
 },
 "nbformat": 4,
 "nbformat_minor": 2
}
